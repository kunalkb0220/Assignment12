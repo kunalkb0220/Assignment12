{
 "cells": [
  {
   "cell_type": "code",
   "execution_count": null,
   "id": "6445f8bd",
   "metadata": {},
   "outputs": [],
   "source": [
    "1. In what modes should the PdfFileReader() and PdfFileWriter() File objects will be opened?\n",
    "\n",
    "For PdfFileReader() file objects should be opened in rb -> read binary mode, \n",
    "Whereas for PdfFileWriter() file objects should be opened in wb -> write binary mode\n"
   ]
  },
  {
   "cell_type": "code",
   "execution_count": null,
   "id": "0561c346",
   "metadata": {},
   "outputs": [],
   "source": [
    "2. From a PdfFileReader object, how do you get a Page object for page 5?\n",
    "\n",
    "PdfFileReader class provides a method called getPage(page_no) to get a page object. \n",
    "Calling getPage(4) will return a Page object for page 5 since page 0 is the first page\n"
   ]
  },
  {
   "cell_type": "code",
   "execution_count": null,
   "id": "d1ba8337",
   "metadata": {},
   "outputs": [],
   "source": [
    "3. What PdfFileReader variable stores the number of pages in the PDF document?\n",
    "\n",
    "getNumPages() method of PdfFileReader class stores the no pages in a PDF document\n"
   ]
  },
  {
   "cell_type": "code",
   "execution_count": null,
   "id": "3115c942",
   "metadata": {},
   "outputs": [],
   "source": [
    "4. If a PdfFileReader object’s PDF is encrypted with the password swordfish, \n",
    "what must you do before you can obtain Page objects from it?\n",
    "\n",
    "If a PdfFileReader object’s PDF is encrypted with the password swordfish and you're not aware of it. \n",
    "first read the Pdf using the PdfFileReader Class. PdfFileReader class provides a attribute called isEncrypted to check \n",
    "whether a pdf is encrypted or not. the method returns true if a pdf is encrypted and vice versa.\n",
    "if pdf is encrypted use the decrypt() method provided by PdfFileReader class first then try to read the contents/pages \n",
    "of the pdf, else PyPDF2 will raise the following error PyPDF2.utils.PdfReadError: file has not been decrypted\n",
    "    "
   ]
  },
  {
   "cell_type": "code",
   "execution_count": null,
   "id": "56d9c835",
   "metadata": {},
   "outputs": [],
   "source": [
    "5. What methods do you use to rotate a page?\n",
    "\n",
    "PyPDF2 Package provides 2 methods to rotate a page:\n",
    "\n",
    "rotateClockWise() -> For Clockwise rotation\n",
    "rotateCounterClockWise() -> For Counter Clockwise rotation\n"
   ]
  },
  {
   "cell_type": "code",
   "execution_count": null,
   "id": "dc6ca56e",
   "metadata": {},
   "outputs": [],
   "source": [
    "6. What is the difference between a Run object and a Paragraph object?\n",
    "\n",
    "The structure of a document is represented by three different data types in python-Docx. \n",
    "At the highest level, a Document object represents the entire document. \n",
    "The Document object contains a list of Paragraph objects for the paragraphs in the document. \n",
    "(A new paragraph begins whenever the user presses ENTER or RETURN while typing in a Word document.) \n",
    "Each of these Paragraph objects contains a list of one or more Run objects.\n"
   ]
  },
  {
   "cell_type": "code",
   "execution_count": null,
   "id": "2b34853f",
   "metadata": {},
   "outputs": [],
   "source": [
    "7. How do you obtain a list of Paragraph objects for a Document object that’s stored in a variable named doc?\n",
    "\n",
    "from docx import Document\n",
    "doc = Document(\"test1.docx\") \n",
    "print(doc.paragraphs) \n",
    "for paragraph in doc.paragraphs:\n",
    "    print(paragraph.text)\n",
    "    "
   ]
  },
  {
   "cell_type": "code",
   "execution_count": null,
   "id": "f0eae954",
   "metadata": {},
   "outputs": [],
   "source": [
    "8. What type of object has bold, underline, italic, strike, and outline variables?\n",
    "\n",
    "Run object has bold, underline, italic, strike, and outline variables. The text in a Word document is more than just a string.\n",
    "It has font, size, color, and other styling information associated with it.\n",
    "A style in Word is a collection of these attributes. A Run object is a contiguous run of text with the same style.\n",
    "A new Run object is needed whenever the text style changes.\n"
   ]
  },
  {
   "cell_type": "code",
   "execution_count": null,
   "id": "7733acdb",
   "metadata": {},
   "outputs": [],
   "source": [
    "9. What is the difference between False, True, and None for the bold variable?\n",
    "\n",
    "bold = True  # Style Set to Bold\n",
    "bold = False # Style Not Set to Bold\n",
    "bold = None # Style is Not Applicable\n"
   ]
  },
  {
   "cell_type": "code",
   "execution_count": null,
   "id": "7b88e5ae",
   "metadata": {},
   "outputs": [],
   "source": [
    "10. How do you create a Document object for a new Word document?\n",
    "\n",
    "from docx import Document\n",
    "document = Document()\n",
    "document.add_paragraph(\"Learn python programming\")\n",
    "document.save('mydocument.docx')\n"
   ]
  },
  {
   "cell_type": "code",
   "execution_count": null,
   "id": "9acf4531",
   "metadata": {},
   "outputs": [],
   "source": [
    "11. How do you add a paragraph with the text 'Hello, there!' to a Document object stored in a variable named doc?\n",
    "\n",
    "from docx import Document\n",
    "doc = Document()\n",
    "doc.add_paragraph('Hello, there!')\n",
    "doc.save('hello.docx')\n"
   ]
  },
  {
   "cell_type": "code",
   "execution_count": null,
   "id": "4cdfa999",
   "metadata": {},
   "outputs": [],
   "source": [
    "12. What integers represent the levels of headings available in Word documents?\n",
    "\n",
    "The levels for a heading in a word document can be specified by using the level attribute inside the add_heading method. \n",
    "There are a total of 5 levels statring for 0 t0 4. where level 0 makes a headline with the horizontal line below the text, \n",
    "whereas the heading level 1 is the main heading. Similarly, the other headings are sub-heading with their's font-sizes in \n",
    "decreasing order.\n"
   ]
  }
 ],
 "metadata": {
  "kernelspec": {
   "display_name": "Python 3",
   "language": "python",
   "name": "python3"
  },
  "language_info": {
   "codemirror_mode": {
    "name": "ipython",
    "version": 3
   },
   "file_extension": ".py",
   "mimetype": "text/x-python",
   "name": "python",
   "nbconvert_exporter": "python",
   "pygments_lexer": "ipython3",
   "version": "3.8.8"
  }
 },
 "nbformat": 4,
 "nbformat_minor": 5
}
